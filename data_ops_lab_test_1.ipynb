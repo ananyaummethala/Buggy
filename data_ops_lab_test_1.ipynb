{
  "nbformat": 4,
  "nbformat_minor": 0,
  "metadata": {
    "colab": {
      "provenance": [],
      "mount_file_id": "1nynlcPXNhNeEi34_4zHCYcJXZsQqSWRg",
      "authorship_tag": "ABX9TyOxp7zlW8E7phn+rhLrhJ/G",
      "include_colab_link": true
    },
    "kernelspec": {
      "name": "python3",
      "display_name": "Python 3"
    },
    "language_info": {
      "name": "python"
    }
  },
  "cells": [
    {
      "cell_type": "markdown",
      "metadata": {
        "id": "view-in-github",
        "colab_type": "text"
      },
      "source": [
        "<a href=\"https://colab.research.google.com/github/ananyaummethala/Buggy/blob/main/data_ops_lab_test_1.ipynb\" target=\"_parent\"><img src=\"https://colab.research.google.com/assets/colab-badge.svg\" alt=\"Open In Colab\"/></a>"
      ]
    },
    {
      "cell_type": "code",
      "execution_count": 5,
      "metadata": {
        "id": "Qyg1-FbKB29Z"
      },
      "outputs": [],
      "source": [
        "import pandas as pd"
      ]
    },
    {
      "cell_type": "code",
      "source": [
        "df= pd.read_excel('/content/ODD.xlsx')"
      ],
      "metadata": {
        "id": "UR8l2KO5Cv4f"
      },
      "execution_count": 20,
      "outputs": []
    },
    {
      "cell_type": "code",
      "source": [
        "print(df.columns)"
      ],
      "metadata": {
        "colab": {
          "base_uri": "https://localhost:8080/"
        },
        "id": "freZV_KSGNiY",
        "outputId": "f1bb0166-ca19-45da-f50a-4be046e529ab"
      },
      "execution_count": 33,
      "outputs": [
        {
          "output_type": "stream",
          "name": "stdout",
          "text": [
            "Index(['Unnamed: 0', 'Write python programs to answer these questions'], dtype='object')\n"
          ]
        }
      ]
    },
    {
      "cell_type": "code",
      "source": [
        "df.groupby('Destination')['Total_Cost'].mean()"
      ],
      "metadata": {
        "id": "NZRUww27Ia5I"
      },
      "execution_count": null,
      "outputs": []
    },
    {
      "cell_type": "code",
      "source": [
        "df['Date'] = pd.to_datetime(df['Date'])"
      ],
      "metadata": {
        "id": "VG7ISecFIuHn"
      },
      "execution_count": null,
      "outputs": []
    },
    {
      "cell_type": "code",
      "source": [
        "df['Destination'].unique()"
      ],
      "metadata": {
        "id": "1gXokRY8I6QP"
      },
      "execution_count": null,
      "outputs": []
    },
    {
      "cell_type": "markdown",
      "source": [
        "q4:no\n",
        "q5:no"
      ],
      "metadata": {
        "id": "YhZQkZKnLTPX"
      }
    },
    {
      "cell_type": "code",
      "source": [],
      "metadata": {
        "id": "0sYCj30ULgdH"
      },
      "execution_count": null,
      "outputs": []
    }
  ]
}